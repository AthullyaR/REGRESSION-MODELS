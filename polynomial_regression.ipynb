{
 "cells": [
  {
   "cell_type": "markdown",
   "metadata": {
    "colab_type": "text",
    "id": "vN99YjPTDena"
   },
   "source": [
    "# Polynomial Regression"
   ]
  },
  {
   "cell_type": "markdown",
   "metadata": {
    "colab_type": "text",
    "id": "ZIx_naXnDyHd"
   },
   "source": [
    "## Importing the libraries"
   ]
  },
  {
   "cell_type": "code",
   "execution_count": 1,
   "metadata": {
    "colab": {},
    "colab_type": "code",
    "id": "FjnmdyPLD2tS"
   },
   "outputs": [],
   "source": [
    "import numpy as np\n",
    "import matplotlib.pyplot as plt\n",
    "import pandas as pd"
   ]
  },
  {
   "cell_type": "markdown",
   "metadata": {
    "colab_type": "text",
    "id": "6c8YExmOD5x5"
   },
   "source": [
    "## Importing the dataset"
   ]
  },
  {
   "cell_type": "code",
   "execution_count": 4,
   "metadata": {
    "colab": {},
    "colab_type": "code",
    "id": "nQOdXhjXD_AE"
   },
   "outputs": [
    {
     "data": {
      "text/html": [
       "<div>\n",
       "<style scoped>\n",
       "    .dataframe tbody tr th:only-of-type {\n",
       "        vertical-align: middle;\n",
       "    }\n",
       "\n",
       "    .dataframe tbody tr th {\n",
       "        vertical-align: top;\n",
       "    }\n",
       "\n",
       "    .dataframe thead th {\n",
       "        text-align: right;\n",
       "    }\n",
       "</style>\n",
       "<table border=\"1\" class=\"dataframe\">\n",
       "  <thead>\n",
       "    <tr style=\"text-align: right;\">\n",
       "      <th></th>\n",
       "      <th>Transaction date</th>\n",
       "      <th>House Age</th>\n",
       "      <th>Distance from nearest Metro station (km)</th>\n",
       "      <th>Number of convenience stores</th>\n",
       "      <th>latitude</th>\n",
       "      <th>longitude</th>\n",
       "      <th>Number of bedrooms</th>\n",
       "      <th>House size (sqft)</th>\n",
       "      <th>House price of unit area</th>\n",
       "    </tr>\n",
       "  </thead>\n",
       "  <tbody>\n",
       "    <tr>\n",
       "      <th>0</th>\n",
       "      <td>2012.916667</td>\n",
       "      <td>32.0</td>\n",
       "      <td>84.87882</td>\n",
       "      <td>10</td>\n",
       "      <td>24.98298</td>\n",
       "      <td>121.54024</td>\n",
       "      <td>1</td>\n",
       "      <td>575</td>\n",
       "      <td>37.9</td>\n",
       "    </tr>\n",
       "    <tr>\n",
       "      <th>1</th>\n",
       "      <td>2012.916667</td>\n",
       "      <td>19.5</td>\n",
       "      <td>306.59470</td>\n",
       "      <td>9</td>\n",
       "      <td>24.98034</td>\n",
       "      <td>121.53951</td>\n",
       "      <td>2</td>\n",
       "      <td>1240</td>\n",
       "      <td>42.2</td>\n",
       "    </tr>\n",
       "    <tr>\n",
       "      <th>2</th>\n",
       "      <td>2013.583333</td>\n",
       "      <td>13.3</td>\n",
       "      <td>561.98450</td>\n",
       "      <td>5</td>\n",
       "      <td>24.98746</td>\n",
       "      <td>121.54391</td>\n",
       "      <td>3</td>\n",
       "      <td>1060</td>\n",
       "      <td>47.3</td>\n",
       "    </tr>\n",
       "    <tr>\n",
       "      <th>3</th>\n",
       "      <td>2013.500000</td>\n",
       "      <td>13.3</td>\n",
       "      <td>561.98450</td>\n",
       "      <td>5</td>\n",
       "      <td>24.98746</td>\n",
       "      <td>121.54391</td>\n",
       "      <td>2</td>\n",
       "      <td>875</td>\n",
       "      <td>54.8</td>\n",
       "    </tr>\n",
       "    <tr>\n",
       "      <th>4</th>\n",
       "      <td>2012.833333</td>\n",
       "      <td>5.0</td>\n",
       "      <td>390.56840</td>\n",
       "      <td>5</td>\n",
       "      <td>24.97937</td>\n",
       "      <td>121.54245</td>\n",
       "      <td>1</td>\n",
       "      <td>491</td>\n",
       "      <td>43.1</td>\n",
       "    </tr>\n",
       "  </tbody>\n",
       "</table>\n",
       "</div>"
      ],
      "text/plain": [
       "   Transaction date  House Age  Distance from nearest Metro station (km)  \\\n",
       "0       2012.916667       32.0                                  84.87882   \n",
       "1       2012.916667       19.5                                 306.59470   \n",
       "2       2013.583333       13.3                                 561.98450   \n",
       "3       2013.500000       13.3                                 561.98450   \n",
       "4       2012.833333        5.0                                 390.56840   \n",
       "\n",
       "   Number of convenience stores  latitude  longitude  Number of bedrooms  \\\n",
       "0                            10  24.98298  121.54024                   1   \n",
       "1                             9  24.98034  121.53951                   2   \n",
       "2                             5  24.98746  121.54391                   3   \n",
       "3                             5  24.98746  121.54391                   2   \n",
       "4                             5  24.97937  121.54245                   1   \n",
       "\n",
       "   House size (sqft)  House price of unit area  \n",
       "0                575                      37.9  \n",
       "1               1240                      42.2  \n",
       "2               1060                      47.3  \n",
       "3                875                      54.8  \n",
       "4                491                      43.1  "
      ]
     },
     "execution_count": 4,
     "metadata": {},
     "output_type": "execute_result"
    }
   ],
   "source": [
    "dataset=pd.read_excel(\"houseprice.xlsx\")\n",
    "X = dataset.iloc[:, :-1].values\n",
    "y = dataset.iloc[:, -1].values\n",
    "dataset.head()"
   ]
  },
  {
   "cell_type": "markdown",
   "metadata": {
    "colab_type": "text",
    "id": "Ud_1XTb28iXH"
   },
   "source": [
    "## Splitting the dataset into the Training set and Test set"
   ]
  },
  {
   "cell_type": "code",
   "execution_count": 5,
   "metadata": {
    "colab": {},
    "colab_type": "code",
    "id": "bUib_pbl8ipB"
   },
   "outputs": [],
   "source": [
    "from sklearn.model_selection import train_test_split\n",
    "X_train, X_test, y_train, y_test = train_test_split(X, y, test_size = 0.2, random_state = 0)"
   ]
  },
  {
   "cell_type": "markdown",
   "metadata": {
    "colab_type": "text",
    "id": "Rb5nWuSHEfBV"
   },
   "source": [
    "## Training the Polynomial Regression model on the Training set"
   ]
  },
  {
   "cell_type": "code",
   "execution_count": 6,
   "metadata": {
    "colab": {},
    "colab_type": "code",
    "id": "HYplp4pTEm0O"
   },
   "outputs": [
    {
     "data": {
      "text/plain": [
       "LinearRegression()"
      ]
     },
     "execution_count": 6,
     "metadata": {},
     "output_type": "execute_result"
    }
   ],
   "source": [
    "from sklearn.preprocessing import PolynomialFeatures\n",
    "from sklearn.linear_model import LinearRegression\n",
    "poly_reg = PolynomialFeatures(degree = 4)\n",
    "X_poly = poly_reg.fit_transform(X_train)\n",
    "regressor = LinearRegression()\n",
    "regressor.fit(X_poly, y_train)"
   ]
  },
  {
   "cell_type": "markdown",
   "metadata": {
    "colab_type": "text",
    "id": "pzF3BRps9nlk"
   },
   "source": [
    "## Predicting the Test set results"
   ]
  },
  {
   "cell_type": "code",
   "execution_count": 7,
   "metadata": {
    "colab": {},
    "colab_type": "code",
    "id": "36aFLFBK9pMk"
   },
   "outputs": [
    {
     "name": "stdout",
     "output_type": "stream",
     "text": [
      "[[ 3.37e+01  4.53e+01]\n",
      " [ 4.54e-01  1.44e+01]\n",
      " [ 2.11e-01  4.60e+01]\n",
      " [ 4.89e+01  1.56e+01]\n",
      " [ 5.91e+01  5.02e+01]\n",
      " [ 4.42e+01  3.81e+01]\n",
      " [ 3.98e+01  4.85e+01]\n",
      " [ 3.74e+01  4.14e+01]\n",
      " [ 8.92e+01  5.16e+01]\n",
      " [ 4.79e+01  4.01e+01]\n",
      " [ 3.81e+01  4.20e+01]\n",
      " [ 2.84e+01  4.24e+01]\n",
      " [ 4.29e+01  2.85e+01]\n",
      " [ 5.41e+01  3.91e+01]\n",
      " [ 7.82e+01  5.37e+01]\n",
      " [ 4.31e+01  3.68e+01]\n",
      " [ 1.39e+01  4.06e+01]\n",
      " [-6.08e+00  5.52e+01]\n",
      " [ 4.37e+01  3.93e+01]\n",
      " [ 3.33e+01  4.43e+01]\n",
      " [ 2.03e+01  5.35e+01]\n",
      " [ 4.38e+01  2.53e+01]\n",
      " [ 9.11e+01  2.28e+01]\n",
      " [ 4.89e+01  5.17e+01]\n",
      " [ 5.90e+01  4.55e+01]\n",
      " [ 3.67e+01  3.44e+01]\n",
      " [ 4.10e+01  3.16e+01]\n",
      " [ 1.99e+01  2.59e+01]\n",
      " [ 5.02e+01  4.95e+01]\n",
      " [ 4.51e+01  2.47e+01]\n",
      " [ 1.06e+01  5.17e+01]\n",
      " [ 6.49e+00  2.97e+01]\n",
      " [ 5.28e+01  4.54e+01]\n",
      " [ 6.68e+01  5.05e+01]\n",
      " [ 6.05e+01  2.65e+01]\n",
      " [ 3.73e+01  3.01e+01]\n",
      " [-4.87e+00  4.61e+01]\n",
      " [ 3.68e+01  2.89e+01]\n",
      " [ 4.58e+01  5.44e+01]\n",
      " [ 1.08e+03  1.50e+01]\n",
      " [ 6.21e+01  4.49e+01]\n",
      " [ 5.14e+01  2.98e+01]\n",
      " [ 1.51e+01  2.36e+01]\n",
      " [ 3.35e+01  4.80e+01]\n",
      " [ 5.70e+00  1.67e+01]\n",
      " [ 1.95e+01  4.09e+01]\n",
      " [ 6.28e+01  4.02e+01]\n",
      " [-4.27e+01  1.29e+01]\n",
      " [ 2.33e+01  2.13e+01]\n",
      " [ 6.86e+01  6.21e+01]\n",
      " [ 6.11e+01  6.39e+01]\n",
      " [ 7.54e+01  4.03e+01]\n",
      " [ 4.25e+01  4.22e+01]\n",
      " [ 4.47e+01  1.91e+01]\n",
      " [ 1.71e+01  2.84e+01]\n",
      " [ 1.96e+01  2.85e+01]\n",
      " [ 6.68e+01  6.07e+01]\n",
      " [ 3.61e+01  3.75e+01]\n",
      " [ 4.10e+01  3.93e+01]\n",
      " [ 1.62e+01  2.88e+01]\n",
      " [ 1.00e+02  4.23e+01]\n",
      " [ 3.18e+01  4.43e+01]\n",
      " [ 3.86e+01  4.26e+01]\n",
      " [ 3.96e+01  5.74e+01]\n",
      " [ 6.39e+01  4.22e+01]\n",
      " [ 2.59e+01  2.57e+01]\n",
      " [-6.43e+01  1.32e+01]\n",
      " [-2.86e+01  2.70e+01]\n",
      " [ 8.24e+01  5.62e+01]\n",
      " [ 4.79e+01  3.83e+01]\n",
      " [ 1.76e+01  2.08e+01]\n",
      " [ 4.58e+01  4.31e+01]\n",
      " [ 5.69e+01  7.83e+01]\n",
      " [ 5.85e+01  2.09e+01]\n",
      " [ 1.81e+01  3.25e+01]\n",
      " [ 3.09e+01  3.34e+01]\n",
      " [-1.24e+01  3.21e+01]\n",
      " [ 7.91e+01  1.92e+01]\n",
      " [ 5.40e+01  5.30e+01]\n",
      " [ 3.49e+01  3.82e+01]\n",
      " [ 4.31e+01  4.67e+01]\n",
      " [ 2.54e+01  2.46e+01]\n",
      " [ 2.23e+01  3.62e+01]]\n"
     ]
    }
   ],
   "source": [
    "y_pred = regressor.predict(poly_reg.transform(X_test))\n",
    "np.set_printoptions(precision=2)\n",
    "print(np.concatenate((y_pred.reshape(len(y_pred),1), y_test.reshape(len(y_test),1)),1))"
   ]
  },
  {
   "cell_type": "markdown",
   "metadata": {
    "colab_type": "text",
    "id": "Fz1uTlWV919-"
   },
   "source": [
    "## Evaluating the Model Performance"
   ]
  },
  {
   "cell_type": "code",
   "execution_count": 8,
   "metadata": {
    "colab": {},
    "colab_type": "code",
    "id": "xvZQ_4W893-e"
   },
   "outputs": [
    {
     "data": {
      "text/plain": [
       "-80.9178663969019"
      ]
     },
     "execution_count": 8,
     "metadata": {},
     "output_type": "execute_result"
    }
   ],
   "source": [
    "from sklearn.metrics import r2_score\n",
    "r2_score(y_test, y_pred)"
   ]
  },
  {
   "cell_type": "code",
   "execution_count": null,
   "metadata": {},
   "outputs": [],
   "source": []
  }
 ],
 "metadata": {
  "colab": {
   "collapsed_sections": [],
   "name": "polynomial_regression.ipynb",
   "provenance": [],
   "toc_visible": true
  },
  "kernelspec": {
   "display_name": "Python 3 (ipykernel)",
   "language": "python",
   "name": "python3"
  },
  "language_info": {
   "codemirror_mode": {
    "name": "ipython",
    "version": 3
   },
   "file_extension": ".py",
   "mimetype": "text/x-python",
   "name": "python",
   "nbconvert_exporter": "python",
   "pygments_lexer": "ipython3",
   "version": "3.9.12"
  }
 },
 "nbformat": 4,
 "nbformat_minor": 1
}
